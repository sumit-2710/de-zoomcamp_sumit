{
 "cells": [
  {
   "cell_type": "code",
   "execution_count": 1,
   "id": "6117969a-5e92-49a6-bb74-ab5e8d71104e",
   "metadata": {},
   "outputs": [
    {
     "name": "stdout",
     "output_type": "stream",
     "text": [
      "hello world in codespace\n"
     ]
    }
   ],
   "source": [
    "print(\"hello world in codespace\")"
   ]
  },
  {
   "cell_type": "code",
   "execution_count": null,
   "id": "d0d1bcd6-caa9-4cd4-bd52-91f1a7165073",
   "metadata": {},
   "outputs": [],
   "source": []
  }
 ],
 "metadata": {
  "kernelspec": {
   "display_name": "Python 3 (ipykernel)",
   "language": "python",
   "name": "python3"
  },
  "language_info": {
   "codemirror_mode": {
    "name": "ipython",
    "version": 3
   },
   "file_extension": ".py",
   "mimetype": "text/x-python",
   "name": "python",
   "nbconvert_exporter": "python",
   "pygments_lexer": "ipython3",
   "version": "3.12.1"
  }
 },
 "nbformat": 4,
 "nbformat_minor": 5
}
